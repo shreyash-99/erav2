{
 "cells": [
  {
   "cell_type": "code",
   "execution_count": 1,
   "metadata": {},
   "outputs": [
    {
     "name": "stdout",
     "output_type": "stream",
     "text": [
      "Requirement already satisfied: tokenizers in /Users/shreyash/Developer/TSAI/ERAV2/erav2/lib/python3.8/site-packages (0.19.1)\n",
      "Requirement already satisfied: huggingface-hub<1.0,>=0.16.4 in /Users/shreyash/Developer/TSAI/ERAV2/erav2/lib/python3.8/site-packages (from tokenizers) (0.23.3)\n",
      "Requirement already satisfied: pyyaml>=5.1 in /Users/shreyash/Developer/TSAI/ERAV2/erav2/lib/python3.8/site-packages (from huggingface-hub<1.0,>=0.16.4->tokenizers) (6.0.1)\n",
      "Requirement already satisfied: packaging>=20.9 in /Users/shreyash/Developer/TSAI/ERAV2/erav2/lib/python3.8/site-packages (from huggingface-hub<1.0,>=0.16.4->tokenizers) (24.1)\n",
      "Requirement already satisfied: typing-extensions>=3.7.4.3 in /Users/shreyash/Developer/TSAI/ERAV2/erav2/lib/python3.8/site-packages (from huggingface-hub<1.0,>=0.16.4->tokenizers) (4.12.2)\n",
      "Requirement already satisfied: tqdm>=4.42.1 in /Users/shreyash/Developer/TSAI/ERAV2/erav2/lib/python3.8/site-packages (from huggingface-hub<1.0,>=0.16.4->tokenizers) (4.66.4)\n",
      "Requirement already satisfied: filelock in /Users/shreyash/Developer/TSAI/ERAV2/erav2/lib/python3.8/site-packages (from huggingface-hub<1.0,>=0.16.4->tokenizers) (3.14.0)\n",
      "Requirement already satisfied: requests in /Users/shreyash/Developer/TSAI/ERAV2/erav2/lib/python3.8/site-packages (from huggingface-hub<1.0,>=0.16.4->tokenizers) (2.32.3)\n",
      "Requirement already satisfied: fsspec>=2023.5.0 in /Users/shreyash/Developer/TSAI/ERAV2/erav2/lib/python3.8/site-packages (from huggingface-hub<1.0,>=0.16.4->tokenizers) (2024.3.1)\n",
      "Requirement already satisfied: certifi>=2017.4.17 in /Users/shreyash/Developer/TSAI/ERAV2/erav2/lib/python3.8/site-packages (from requests->huggingface-hub<1.0,>=0.16.4->tokenizers) (2024.6.2)\n",
      "Requirement already satisfied: charset-normalizer<4,>=2 in /Users/shreyash/Developer/TSAI/ERAV2/erav2/lib/python3.8/site-packages (from requests->huggingface-hub<1.0,>=0.16.4->tokenizers) (3.3.2)\n",
      "Requirement already satisfied: urllib3<3,>=1.21.1 in /Users/shreyash/Developer/TSAI/ERAV2/erav2/lib/python3.8/site-packages (from requests->huggingface-hub<1.0,>=0.16.4->tokenizers) (2.2.1)\n",
      "Requirement already satisfied: idna<4,>=2.5 in /Users/shreyash/Developer/TSAI/ERAV2/erav2/lib/python3.8/site-packages (from requests->huggingface-hub<1.0,>=0.16.4->tokenizers) (3.7)\n",
      "\u001b[33mWARNING: You are using pip version 22.0.4; however, version 24.0 is available.\n",
      "You should consider upgrading via the '/Users/shreyash/Developer/TSAI/ERAV2/erav2/bin/python3 -m pip install --upgrade pip' command.\u001b[0m\u001b[33m\n",
      "\u001b[0mRequirement already satisfied: torchtext in /Users/shreyash/Developer/TSAI/ERAV2/erav2/lib/python3.8/site-packages (0.17.2)\n",
      "Requirement already satisfied: tqdm in /Users/shreyash/Developer/TSAI/ERAV2/erav2/lib/python3.8/site-packages (from torchtext) (4.66.4)\n",
      "Requirement already satisfied: torch==2.2.2 in /Users/shreyash/Developer/TSAI/ERAV2/erav2/lib/python3.8/site-packages (from torchtext) (2.2.2)\n",
      "Requirement already satisfied: numpy in /Users/shreyash/Developer/TSAI/ERAV2/erav2/lib/python3.8/site-packages (from torchtext) (1.24.4)\n",
      "Requirement already satisfied: requests in /Users/shreyash/Developer/TSAI/ERAV2/erav2/lib/python3.8/site-packages (from torchtext) (2.32.3)\n",
      "Requirement already satisfied: sympy in /Users/shreyash/Developer/TSAI/ERAV2/erav2/lib/python3.8/site-packages (from torch==2.2.2->torchtext) (1.12.1)\n",
      "Requirement already satisfied: networkx in /Users/shreyash/Developer/TSAI/ERAV2/erav2/lib/python3.8/site-packages (from torch==2.2.2->torchtext) (3.1)\n",
      "Requirement already satisfied: fsspec in /Users/shreyash/Developer/TSAI/ERAV2/erav2/lib/python3.8/site-packages (from torch==2.2.2->torchtext) (2024.3.1)\n",
      "Requirement already satisfied: jinja2 in /Users/shreyash/Developer/TSAI/ERAV2/erav2/lib/python3.8/site-packages (from torch==2.2.2->torchtext) (3.1.4)\n",
      "Requirement already satisfied: filelock in /Users/shreyash/Developer/TSAI/ERAV2/erav2/lib/python3.8/site-packages (from torch==2.2.2->torchtext) (3.14.0)\n",
      "Requirement already satisfied: typing-extensions>=4.8.0 in /Users/shreyash/Developer/TSAI/ERAV2/erav2/lib/python3.8/site-packages (from torch==2.2.2->torchtext) (4.12.2)\n",
      "Requirement already satisfied: urllib3<3,>=1.21.1 in /Users/shreyash/Developer/TSAI/ERAV2/erav2/lib/python3.8/site-packages (from requests->torchtext) (2.2.1)\n",
      "Requirement already satisfied: idna<4,>=2.5 in /Users/shreyash/Developer/TSAI/ERAV2/erav2/lib/python3.8/site-packages (from requests->torchtext) (3.7)\n",
      "Requirement already satisfied: certifi>=2017.4.17 in /Users/shreyash/Developer/TSAI/ERAV2/erav2/lib/python3.8/site-packages (from requests->torchtext) (2024.6.2)\n",
      "Requirement already satisfied: charset-normalizer<4,>=2 in /Users/shreyash/Developer/TSAI/ERAV2/erav2/lib/python3.8/site-packages (from requests->torchtext) (3.3.2)\n",
      "Requirement already satisfied: MarkupSafe>=2.0 in /Users/shreyash/Developer/TSAI/ERAV2/erav2/lib/python3.8/site-packages (from jinja2->torch==2.2.2->torchtext) (2.1.5)\n",
      "Requirement already satisfied: mpmath<1.4.0,>=1.1.0 in /Users/shreyash/Developer/TSAI/ERAV2/erav2/lib/python3.8/site-packages (from sympy->torch==2.2.2->torchtext) (1.3.0)\n",
      "\u001b[33mWARNING: You are using pip version 22.0.4; however, version 24.0 is available.\n",
      "You should consider upgrading via the '/Users/shreyash/Developer/TSAI/ERAV2/erav2/bin/python3 -m pip install --upgrade pip' command.\u001b[0m\u001b[33m\n",
      "\u001b[0mRequirement already satisfied: pytorch_lightning in /Users/shreyash/Developer/TSAI/ERAV2/erav2/lib/python3.8/site-packages (2.2.5)\n",
      "Requirement already satisfied: PyYAML>=5.4 in /Users/shreyash/Developer/TSAI/ERAV2/erav2/lib/python3.8/site-packages (from pytorch_lightning) (6.0.1)\n",
      "Requirement already satisfied: fsspec[http]>=2022.5.0 in /Users/shreyash/Developer/TSAI/ERAV2/erav2/lib/python3.8/site-packages (from pytorch_lightning) (2024.3.1)\n",
      "Requirement already satisfied: typing-extensions>=4.4.0 in /Users/shreyash/Developer/TSAI/ERAV2/erav2/lib/python3.8/site-packages (from pytorch_lightning) (4.12.2)\n",
      "Requirement already satisfied: tqdm>=4.57.0 in /Users/shreyash/Developer/TSAI/ERAV2/erav2/lib/python3.8/site-packages (from pytorch_lightning) (4.66.4)\n",
      "Requirement already satisfied: packaging>=20.0 in /Users/shreyash/Developer/TSAI/ERAV2/erav2/lib/python3.8/site-packages (from pytorch_lightning) (24.1)\n",
      "Requirement already satisfied: torch>=1.13.0 in /Users/shreyash/Developer/TSAI/ERAV2/erav2/lib/python3.8/site-packages (from pytorch_lightning) (2.2.2)\n",
      "Requirement already satisfied: torchmetrics>=0.7.0 in /Users/shreyash/Developer/TSAI/ERAV2/erav2/lib/python3.8/site-packages (from pytorch_lightning) (1.4.0.post0)\n",
      "Requirement already satisfied: lightning-utilities>=0.8.0 in /Users/shreyash/Developer/TSAI/ERAV2/erav2/lib/python3.8/site-packages (from pytorch_lightning) (0.11.2)\n",
      "Requirement already satisfied: numpy>=1.17.2 in /Users/shreyash/Developer/TSAI/ERAV2/erav2/lib/python3.8/site-packages (from pytorch_lightning) (1.24.4)\n",
      "Requirement already satisfied: aiohttp!=4.0.0a0,!=4.0.0a1 in /Users/shreyash/Developer/TSAI/ERAV2/erav2/lib/python3.8/site-packages (from fsspec[http]>=2022.5.0->pytorch_lightning) (3.9.5)\n",
      "Requirement already satisfied: setuptools in /Users/shreyash/Developer/TSAI/ERAV2/erav2/lib/python3.8/site-packages (from lightning-utilities>=0.8.0->pytorch_lightning) (56.0.0)\n",
      "Requirement already satisfied: sympy in /Users/shreyash/Developer/TSAI/ERAV2/erav2/lib/python3.8/site-packages (from torch>=1.13.0->pytorch_lightning) (1.12.1)\n",
      "Requirement already satisfied: filelock in /Users/shreyash/Developer/TSAI/ERAV2/erav2/lib/python3.8/site-packages (from torch>=1.13.0->pytorch_lightning) (3.14.0)\n",
      "Requirement already satisfied: networkx in /Users/shreyash/Developer/TSAI/ERAV2/erav2/lib/python3.8/site-packages (from torch>=1.13.0->pytorch_lightning) (3.1)\n",
      "Requirement already satisfied: jinja2 in /Users/shreyash/Developer/TSAI/ERAV2/erav2/lib/python3.8/site-packages (from torch>=1.13.0->pytorch_lightning) (3.1.4)\n",
      "Requirement already satisfied: async-timeout<5.0,>=4.0 in /Users/shreyash/Developer/TSAI/ERAV2/erav2/lib/python3.8/site-packages (from aiohttp!=4.0.0a0,!=4.0.0a1->fsspec[http]>=2022.5.0->pytorch_lightning) (4.0.3)\n",
      "Requirement already satisfied: aiosignal>=1.1.2 in /Users/shreyash/Developer/TSAI/ERAV2/erav2/lib/python3.8/site-packages (from aiohttp!=4.0.0a0,!=4.0.0a1->fsspec[http]>=2022.5.0->pytorch_lightning) (1.3.1)\n",
      "Requirement already satisfied: attrs>=17.3.0 in /Users/shreyash/Developer/TSAI/ERAV2/erav2/lib/python3.8/site-packages (from aiohttp!=4.0.0a0,!=4.0.0a1->fsspec[http]>=2022.5.0->pytorch_lightning) (23.2.0)\n",
      "Requirement already satisfied: frozenlist>=1.1.1 in /Users/shreyash/Developer/TSAI/ERAV2/erav2/lib/python3.8/site-packages (from aiohttp!=4.0.0a0,!=4.0.0a1->fsspec[http]>=2022.5.0->pytorch_lightning) (1.4.1)\n",
      "Requirement already satisfied: yarl<2.0,>=1.0 in /Users/shreyash/Developer/TSAI/ERAV2/erav2/lib/python3.8/site-packages (from aiohttp!=4.0.0a0,!=4.0.0a1->fsspec[http]>=2022.5.0->pytorch_lightning) (1.9.4)\n",
      "Requirement already satisfied: multidict<7.0,>=4.5 in /Users/shreyash/Developer/TSAI/ERAV2/erav2/lib/python3.8/site-packages (from aiohttp!=4.0.0a0,!=4.0.0a1->fsspec[http]>=2022.5.0->pytorch_lightning) (6.0.5)\n",
      "Requirement already satisfied: MarkupSafe>=2.0 in /Users/shreyash/Developer/TSAI/ERAV2/erav2/lib/python3.8/site-packages (from jinja2->torch>=1.13.0->pytorch_lightning) (2.1.5)\n",
      "Requirement already satisfied: mpmath<1.4.0,>=1.1.0 in /Users/shreyash/Developer/TSAI/ERAV2/erav2/lib/python3.8/site-packages (from sympy->torch>=1.13.0->pytorch_lightning) (1.3.0)\n",
      "Requirement already satisfied: idna>=2.0 in /Users/shreyash/Developer/TSAI/ERAV2/erav2/lib/python3.8/site-packages (from yarl<2.0,>=1.0->aiohttp!=4.0.0a0,!=4.0.0a1->fsspec[http]>=2022.5.0->pytorch_lightning) (3.7)\n",
      "\u001b[33mWARNING: You are using pip version 22.0.4; however, version 24.0 is available.\n",
      "You should consider upgrading via the '/Users/shreyash/Developer/TSAI/ERAV2/erav2/bin/python3 -m pip install --upgrade pip' command.\u001b[0m\u001b[33m\n",
      "\u001b[0mRequirement already satisfied: datasets in /Users/shreyash/Developer/TSAI/ERAV2/erav2/lib/python3.8/site-packages (2.19.2)\n",
      "Requirement already satisfied: numpy>=1.17 in /Users/shreyash/Developer/TSAI/ERAV2/erav2/lib/python3.8/site-packages (from datasets) (1.24.4)\n",
      "Requirement already satisfied: dill<0.3.9,>=0.3.0 in /Users/shreyash/Developer/TSAI/ERAV2/erav2/lib/python3.8/site-packages (from datasets) (0.3.8)\n",
      "Requirement already satisfied: fsspec[http]<=2024.3.1,>=2023.1.0 in /Users/shreyash/Developer/TSAI/ERAV2/erav2/lib/python3.8/site-packages (from datasets) (2024.3.1)\n",
      "Requirement already satisfied: multiprocess in /Users/shreyash/Developer/TSAI/ERAV2/erav2/lib/python3.8/site-packages (from datasets) (0.70.16)\n",
      "Requirement already satisfied: aiohttp in /Users/shreyash/Developer/TSAI/ERAV2/erav2/lib/python3.8/site-packages (from datasets) (3.9.5)\n",
      "Requirement already satisfied: pyyaml>=5.1 in /Users/shreyash/Developer/TSAI/ERAV2/erav2/lib/python3.8/site-packages (from datasets) (6.0.1)\n",
      "Requirement already satisfied: xxhash in /Users/shreyash/Developer/TSAI/ERAV2/erav2/lib/python3.8/site-packages (from datasets) (3.4.1)\n",
      "Requirement already satisfied: pandas in /Users/shreyash/Developer/TSAI/ERAV2/erav2/lib/python3.8/site-packages (from datasets) (2.0.3)\n",
      "Requirement already satisfied: pyarrow>=12.0.0 in /Users/shreyash/Developer/TSAI/ERAV2/erav2/lib/python3.8/site-packages (from datasets) (16.1.0)\n",
      "Requirement already satisfied: filelock in /Users/shreyash/Developer/TSAI/ERAV2/erav2/lib/python3.8/site-packages (from datasets) (3.14.0)\n",
      "Requirement already satisfied: pyarrow-hotfix in /Users/shreyash/Developer/TSAI/ERAV2/erav2/lib/python3.8/site-packages (from datasets) (0.6)\n",
      "Requirement already satisfied: requests>=2.32.1 in /Users/shreyash/Developer/TSAI/ERAV2/erav2/lib/python3.8/site-packages (from datasets) (2.32.3)\n",
      "Requirement already satisfied: huggingface-hub>=0.21.2 in /Users/shreyash/Developer/TSAI/ERAV2/erav2/lib/python3.8/site-packages (from datasets) (0.23.3)\n",
      "Requirement already satisfied: tqdm>=4.62.1 in /Users/shreyash/Developer/TSAI/ERAV2/erav2/lib/python3.8/site-packages (from datasets) (4.66.4)\n",
      "Requirement already satisfied: packaging in /Users/shreyash/Developer/TSAI/ERAV2/erav2/lib/python3.8/site-packages (from datasets) (24.1)\n",
      "Requirement already satisfied: attrs>=17.3.0 in /Users/shreyash/Developer/TSAI/ERAV2/erav2/lib/python3.8/site-packages (from aiohttp->datasets) (23.2.0)\n",
      "Requirement already satisfied: multidict<7.0,>=4.5 in /Users/shreyash/Developer/TSAI/ERAV2/erav2/lib/python3.8/site-packages (from aiohttp->datasets) (6.0.5)\n",
      "Requirement already satisfied: yarl<2.0,>=1.0 in /Users/shreyash/Developer/TSAI/ERAV2/erav2/lib/python3.8/site-packages (from aiohttp->datasets) (1.9.4)\n",
      "Requirement already satisfied: aiosignal>=1.1.2 in /Users/shreyash/Developer/TSAI/ERAV2/erav2/lib/python3.8/site-packages (from aiohttp->datasets) (1.3.1)\n",
      "Requirement already satisfied: async-timeout<5.0,>=4.0 in /Users/shreyash/Developer/TSAI/ERAV2/erav2/lib/python3.8/site-packages (from aiohttp->datasets) (4.0.3)\n",
      "Requirement already satisfied: frozenlist>=1.1.1 in /Users/shreyash/Developer/TSAI/ERAV2/erav2/lib/python3.8/site-packages (from aiohttp->datasets) (1.4.1)\n",
      "Requirement already satisfied: typing-extensions>=3.7.4.3 in /Users/shreyash/Developer/TSAI/ERAV2/erav2/lib/python3.8/site-packages (from huggingface-hub>=0.21.2->datasets) (4.12.2)\n",
      "Requirement already satisfied: certifi>=2017.4.17 in /Users/shreyash/Developer/TSAI/ERAV2/erav2/lib/python3.8/site-packages (from requests>=2.32.1->datasets) (2024.6.2)\n",
      "Requirement already satisfied: idna<4,>=2.5 in /Users/shreyash/Developer/TSAI/ERAV2/erav2/lib/python3.8/site-packages (from requests>=2.32.1->datasets) (3.7)\n",
      "Requirement already satisfied: urllib3<3,>=1.21.1 in /Users/shreyash/Developer/TSAI/ERAV2/erav2/lib/python3.8/site-packages (from requests>=2.32.1->datasets) (2.2.1)\n",
      "Requirement already satisfied: charset-normalizer<4,>=2 in /Users/shreyash/Developer/TSAI/ERAV2/erav2/lib/python3.8/site-packages (from requests>=2.32.1->datasets) (3.3.2)\n",
      "Requirement already satisfied: python-dateutil>=2.8.2 in /Users/shreyash/Developer/TSAI/ERAV2/erav2/lib/python3.8/site-packages (from pandas->datasets) (2.9.0.post0)\n",
      "Requirement already satisfied: pytz>=2020.1 in /Users/shreyash/Developer/TSAI/ERAV2/erav2/lib/python3.8/site-packages (from pandas->datasets) (2024.1)\n",
      "Requirement already satisfied: tzdata>=2022.1 in /Users/shreyash/Developer/TSAI/ERAV2/erav2/lib/python3.8/site-packages (from pandas->datasets) (2024.1)\n",
      "Requirement already satisfied: six>=1.5 in /Users/shreyash/Developer/TSAI/ERAV2/erav2/lib/python3.8/site-packages (from python-dateutil>=2.8.2->pandas->datasets) (1.16.0)\n",
      "\u001b[33mWARNING: You are using pip version 22.0.4; however, version 24.0 is available.\n",
      "You should consider upgrading via the '/Users/shreyash/Developer/TSAI/ERAV2/erav2/bin/python3 -m pip install --upgrade pip' command.\u001b[0m\u001b[33m\n",
      "\u001b[0mRequirement already satisfied: tensorboard in /Users/shreyash/Developer/TSAI/ERAV2/erav2/lib/python3.8/site-packages (2.14.0)\n",
      "Requirement already satisfied: numpy>=1.12.0 in /Users/shreyash/Developer/TSAI/ERAV2/erav2/lib/python3.8/site-packages (from tensorboard) (1.24.4)\n",
      "Requirement already satisfied: protobuf>=3.19.6 in /Users/shreyash/Developer/TSAI/ERAV2/erav2/lib/python3.8/site-packages (from tensorboard) (5.27.1)\n",
      "Requirement already satisfied: wheel>=0.26 in /Users/shreyash/Developer/TSAI/ERAV2/erav2/lib/python3.8/site-packages (from tensorboard) (0.43.0)\n",
      "Requirement already satisfied: google-auth<3,>=1.6.3 in /Users/shreyash/Developer/TSAI/ERAV2/erav2/lib/python3.8/site-packages (from tensorboard) (2.30.0)\n",
      "Requirement already satisfied: markdown>=2.6.8 in /Users/shreyash/Developer/TSAI/ERAV2/erav2/lib/python3.8/site-packages (from tensorboard) (3.6)\n",
      "Requirement already satisfied: google-auth-oauthlib<1.1,>=0.5 in /Users/shreyash/Developer/TSAI/ERAV2/erav2/lib/python3.8/site-packages (from tensorboard) (1.0.0)\n",
      "Requirement already satisfied: grpcio>=1.48.2 in /Users/shreyash/Developer/TSAI/ERAV2/erav2/lib/python3.8/site-packages (from tensorboard) (1.64.1)\n",
      "Requirement already satisfied: absl-py>=0.4 in /Users/shreyash/Developer/TSAI/ERAV2/erav2/lib/python3.8/site-packages (from tensorboard) (2.1.0)\n",
      "Requirement already satisfied: requests<3,>=2.21.0 in /Users/shreyash/Developer/TSAI/ERAV2/erav2/lib/python3.8/site-packages (from tensorboard) (2.32.3)\n",
      "Requirement already satisfied: setuptools>=41.0.0 in /Users/shreyash/Developer/TSAI/ERAV2/erav2/lib/python3.8/site-packages (from tensorboard) (56.0.0)\n",
      "Requirement already satisfied: werkzeug>=1.0.1 in /Users/shreyash/Developer/TSAI/ERAV2/erav2/lib/python3.8/site-packages (from tensorboard) (3.0.3)\n",
      "Requirement already satisfied: tensorboard-data-server<0.8.0,>=0.7.0 in /Users/shreyash/Developer/TSAI/ERAV2/erav2/lib/python3.8/site-packages (from tensorboard) (0.7.2)\n",
      "Requirement already satisfied: cachetools<6.0,>=2.0.0 in /Users/shreyash/Developer/TSAI/ERAV2/erav2/lib/python3.8/site-packages (from google-auth<3,>=1.6.3->tensorboard) (5.3.3)\n",
      "Requirement already satisfied: rsa<5,>=3.1.4 in /Users/shreyash/Developer/TSAI/ERAV2/erav2/lib/python3.8/site-packages (from google-auth<3,>=1.6.3->tensorboard) (4.9)\n",
      "Requirement already satisfied: pyasn1-modules>=0.2.1 in /Users/shreyash/Developer/TSAI/ERAV2/erav2/lib/python3.8/site-packages (from google-auth<3,>=1.6.3->tensorboard) (0.4.0)\n",
      "Requirement already satisfied: requests-oauthlib>=0.7.0 in /Users/shreyash/Developer/TSAI/ERAV2/erav2/lib/python3.8/site-packages (from google-auth-oauthlib<1.1,>=0.5->tensorboard) (2.0.0)\n",
      "Requirement already satisfied: importlib-metadata>=4.4 in /Users/shreyash/Developer/TSAI/ERAV2/erav2/lib/python3.8/site-packages (from markdown>=2.6.8->tensorboard) (7.1.0)\n",
      "Requirement already satisfied: idna<4,>=2.5 in /Users/shreyash/Developer/TSAI/ERAV2/erav2/lib/python3.8/site-packages (from requests<3,>=2.21.0->tensorboard) (3.7)\n",
      "Requirement already satisfied: charset-normalizer<4,>=2 in /Users/shreyash/Developer/TSAI/ERAV2/erav2/lib/python3.8/site-packages (from requests<3,>=2.21.0->tensorboard) (3.3.2)\n",
      "Requirement already satisfied: urllib3<3,>=1.21.1 in /Users/shreyash/Developer/TSAI/ERAV2/erav2/lib/python3.8/site-packages (from requests<3,>=2.21.0->tensorboard) (2.2.1)\n",
      "Requirement already satisfied: certifi>=2017.4.17 in /Users/shreyash/Developer/TSAI/ERAV2/erav2/lib/python3.8/site-packages (from requests<3,>=2.21.0->tensorboard) (2024.6.2)\n",
      "Requirement already satisfied: MarkupSafe>=2.1.1 in /Users/shreyash/Developer/TSAI/ERAV2/erav2/lib/python3.8/site-packages (from werkzeug>=1.0.1->tensorboard) (2.1.5)\n",
      "Requirement already satisfied: zipp>=0.5 in /Users/shreyash/Developer/TSAI/ERAV2/erav2/lib/python3.8/site-packages (from importlib-metadata>=4.4->markdown>=2.6.8->tensorboard) (3.19.2)\n",
      "Requirement already satisfied: pyasn1<0.7.0,>=0.4.6 in /Users/shreyash/Developer/TSAI/ERAV2/erav2/lib/python3.8/site-packages (from pyasn1-modules>=0.2.1->google-auth<3,>=1.6.3->tensorboard) (0.6.0)\n",
      "Requirement already satisfied: oauthlib>=3.0.0 in /Users/shreyash/Developer/TSAI/ERAV2/erav2/lib/python3.8/site-packages (from requests-oauthlib>=0.7.0->google-auth-oauthlib<1.1,>=0.5->tensorboard) (3.2.2)\n",
      "\u001b[33mWARNING: You are using pip version 22.0.4; however, version 24.0 is available.\n",
      "You should consider upgrading via the '/Users/shreyash/Developer/TSAI/ERAV2/erav2/bin/python3 -m pip install --upgrade pip' command.\u001b[0m\u001b[33m\n",
      "\u001b[0m"
     ]
    }
   ],
   "source": [
    "!pip install tokenizers\n",
    "!pip install torchtext\n",
    "!pip install pytorch_lightning\n",
    "!pip install datasets\n",
    "!pip install tensorboard"
   ]
  },
  {
   "cell_type": "code",
   "execution_count": 2,
   "metadata": {},
   "outputs": [
    {
     "name": "stderr",
     "output_type": "stream",
     "text": [
      "/Users/shreyash/Developer/TSAI/ERAV2/erav2/lib/python3.8/site-packages/torch/amp/autocast_mode.py:250: UserWarning: User provided device_type of 'cuda', but CUDA is not available. Disabling\n",
      "  warnings.warn(\n",
      "/Users/shreyash/Developer/TSAI/ERAV2/erav2/lib/python3.8/site-packages/tqdm/auto.py:21: TqdmWarning: IProgress not found. Please update jupyter and ipywidgets. See https://ipywidgets.readthedocs.io/en/stable/user_install.html\n",
      "  from .autonotebook import tqdm as notebook_tqdm\n"
     ]
    }
   ],
   "source": [
    "from config_file import get_config\n",
    "from train import train_model\n",
    "\n",
    "config = get_config()\n",
    "config[\"batch_size\"] = 16\n",
    "config[\"preload\"] = None\n",
    "config[\"num_epochs\"] = 18\n"
   ]
  },
  {
   "cell_type": "code",
   "execution_count": 3,
   "metadata": {},
   "outputs": [
    {
     "name": "stderr",
     "output_type": "stream",
     "text": [
      "2024-06-13 16:17:16.216 python3[38356:3602906] getMetalPluginClassForService: Failed to find bundle for accelerator bundle named: AGXMetalA12 errno: 0\n"
     ]
    },
    {
     "name": "stdout",
     "output_type": "stream",
     "text": [
      "Using device : mps\n",
      "Max length of the source sentence : 309\n",
      "Max length of the source target : 274\n",
      "0\n"
     ]
    },
    {
     "name": "stderr",
     "output_type": "stream",
     "text": [
      "Processing Epoch 00:   0%|          | 7/1819 [00:37<2:42:40,  5.39s/it, loss=9.542] \n"
     ]
    },
    {
     "ename": "KeyboardInterrupt",
     "evalue": "",
     "output_type": "error",
     "traceback": [
      "\u001b[0;31m---------------------------------------------------------------------------\u001b[0m",
      "\u001b[0;31mKeyboardInterrupt\u001b[0m                         Traceback (most recent call last)",
      "Cell \u001b[0;32mIn[3], line 1\u001b[0m\n\u001b[0;32m----> 1\u001b[0m \u001b[43mtrain_model\u001b[49m\u001b[43m(\u001b[49m\u001b[43mconfig\u001b[49m\u001b[43m)\u001b[49m\n",
      "File \u001b[0;32m~/Developer/TSAI/ERAV2/S18/train.py:218\u001b[0m, in \u001b[0;36mtrain_model\u001b[0;34m(config)\u001b[0m\n\u001b[1;32m    215\u001b[0m decoder_mask \u001b[38;5;241m=\u001b[39m batch[\u001b[38;5;124m\"\u001b[39m\u001b[38;5;124mdecoder_mask\u001b[39m\u001b[38;5;124m\"\u001b[39m]\u001b[38;5;241m.\u001b[39mto(device)\n\u001b[1;32m    217\u001b[0m encoder_output \u001b[38;5;241m=\u001b[39m model\u001b[38;5;241m.\u001b[39mencode(encoder_input, encoder_mask)\n\u001b[0;32m--> 218\u001b[0m decoder_output \u001b[38;5;241m=\u001b[39m \u001b[43mmodel\u001b[49m\u001b[38;5;241;43m.\u001b[39;49m\u001b[43mdecode\u001b[49m\u001b[43m(\u001b[49m\u001b[43mencoder_output\u001b[49m\u001b[43m,\u001b[49m\u001b[43m \u001b[49m\u001b[43mencoder_mask\u001b[49m\u001b[43m,\u001b[49m\u001b[43m \u001b[49m\u001b[43mdecoder_input\u001b[49m\u001b[43m,\u001b[49m\u001b[43m \u001b[49m\u001b[43mdecoder_mask\u001b[49m\u001b[43m)\u001b[49m\n\u001b[1;32m    219\u001b[0m proj_output \u001b[38;5;241m=\u001b[39m model\u001b[38;5;241m.\u001b[39mproject(decoder_output)\n\u001b[1;32m    221\u001b[0m label \u001b[38;5;241m=\u001b[39m batch[\u001b[38;5;124m\"\u001b[39m\u001b[38;5;124mlabel\u001b[39m\u001b[38;5;124m\"\u001b[39m]\u001b[38;5;241m.\u001b[39mto(device)\n",
      "File \u001b[0;32m~/Developer/TSAI/ERAV2/S18/model.py:223\u001b[0m, in \u001b[0;36mTransformer.decode\u001b[0;34m(self, encoder_output, src_mask, tgt, tgt_mask)\u001b[0m\n\u001b[1;32m    221\u001b[0m tgt \u001b[38;5;241m=\u001b[39m \u001b[38;5;28mself\u001b[39m\u001b[38;5;241m.\u001b[39mtgt_embed(tgt)\n\u001b[1;32m    222\u001b[0m tgt \u001b[38;5;241m=\u001b[39m \u001b[38;5;28mself\u001b[39m\u001b[38;5;241m.\u001b[39mtgt_pos(tgt)\n\u001b[0;32m--> 223\u001b[0m \u001b[38;5;28;01mreturn\u001b[39;00m \u001b[38;5;28;43mself\u001b[39;49m\u001b[38;5;241;43m.\u001b[39;49m\u001b[43mdecoder\u001b[49m\u001b[43m(\u001b[49m\u001b[43mtgt\u001b[49m\u001b[43m,\u001b[49m\u001b[43m \u001b[49m\u001b[43mencoder_output\u001b[49m\u001b[43m,\u001b[49m\u001b[43m \u001b[49m\u001b[43msrc_mask\u001b[49m\u001b[43m,\u001b[49m\u001b[43m \u001b[49m\u001b[43mtgt_mask\u001b[49m\u001b[43m)\u001b[49m\n",
      "File \u001b[0;32m~/Developer/TSAI/ERAV2/erav2/lib/python3.8/site-packages/torch/nn/modules/module.py:1511\u001b[0m, in \u001b[0;36mModule._wrapped_call_impl\u001b[0;34m(self, *args, **kwargs)\u001b[0m\n\u001b[1;32m   1509\u001b[0m     \u001b[38;5;28;01mreturn\u001b[39;00m \u001b[38;5;28mself\u001b[39m\u001b[38;5;241m.\u001b[39m_compiled_call_impl(\u001b[38;5;241m*\u001b[39margs, \u001b[38;5;241m*\u001b[39m\u001b[38;5;241m*\u001b[39mkwargs)  \u001b[38;5;66;03m# type: ignore[misc]\u001b[39;00m\n\u001b[1;32m   1510\u001b[0m \u001b[38;5;28;01melse\u001b[39;00m:\n\u001b[0;32m-> 1511\u001b[0m     \u001b[38;5;28;01mreturn\u001b[39;00m \u001b[38;5;28;43mself\u001b[39;49m\u001b[38;5;241;43m.\u001b[39;49m\u001b[43m_call_impl\u001b[49m\u001b[43m(\u001b[49m\u001b[38;5;241;43m*\u001b[39;49m\u001b[43margs\u001b[49m\u001b[43m,\u001b[49m\u001b[43m \u001b[49m\u001b[38;5;241;43m*\u001b[39;49m\u001b[38;5;241;43m*\u001b[39;49m\u001b[43mkwargs\u001b[49m\u001b[43m)\u001b[49m\n",
      "File \u001b[0;32m~/Developer/TSAI/ERAV2/erav2/lib/python3.8/site-packages/torch/nn/modules/module.py:1520\u001b[0m, in \u001b[0;36mModule._call_impl\u001b[0;34m(self, *args, **kwargs)\u001b[0m\n\u001b[1;32m   1515\u001b[0m \u001b[38;5;66;03m# If we don't have any hooks, we want to skip the rest of the logic in\u001b[39;00m\n\u001b[1;32m   1516\u001b[0m \u001b[38;5;66;03m# this function, and just call forward.\u001b[39;00m\n\u001b[1;32m   1517\u001b[0m \u001b[38;5;28;01mif\u001b[39;00m \u001b[38;5;129;01mnot\u001b[39;00m (\u001b[38;5;28mself\u001b[39m\u001b[38;5;241m.\u001b[39m_backward_hooks \u001b[38;5;129;01mor\u001b[39;00m \u001b[38;5;28mself\u001b[39m\u001b[38;5;241m.\u001b[39m_backward_pre_hooks \u001b[38;5;129;01mor\u001b[39;00m \u001b[38;5;28mself\u001b[39m\u001b[38;5;241m.\u001b[39m_forward_hooks \u001b[38;5;129;01mor\u001b[39;00m \u001b[38;5;28mself\u001b[39m\u001b[38;5;241m.\u001b[39m_forward_pre_hooks\n\u001b[1;32m   1518\u001b[0m         \u001b[38;5;129;01mor\u001b[39;00m _global_backward_pre_hooks \u001b[38;5;129;01mor\u001b[39;00m _global_backward_hooks\n\u001b[1;32m   1519\u001b[0m         \u001b[38;5;129;01mor\u001b[39;00m _global_forward_hooks \u001b[38;5;129;01mor\u001b[39;00m _global_forward_pre_hooks):\n\u001b[0;32m-> 1520\u001b[0m     \u001b[38;5;28;01mreturn\u001b[39;00m \u001b[43mforward_call\u001b[49m\u001b[43m(\u001b[49m\u001b[38;5;241;43m*\u001b[39;49m\u001b[43margs\u001b[49m\u001b[43m,\u001b[49m\u001b[43m \u001b[49m\u001b[38;5;241;43m*\u001b[39;49m\u001b[38;5;241;43m*\u001b[39;49m\u001b[43mkwargs\u001b[49m\u001b[43m)\u001b[49m\n\u001b[1;32m   1522\u001b[0m \u001b[38;5;28;01mtry\u001b[39;00m:\n\u001b[1;32m   1523\u001b[0m     result \u001b[38;5;241m=\u001b[39m \u001b[38;5;28;01mNone\u001b[39;00m\n",
      "File \u001b[0;32m~/Developer/TSAI/ERAV2/S18/model.py:188\u001b[0m, in \u001b[0;36mDecoder.forward\u001b[0;34m(self, x, encoder_output, src_mask, tgt_mask)\u001b[0m\n\u001b[1;32m    186\u001b[0m \u001b[38;5;28;01mdef\u001b[39;00m \u001b[38;5;21mforward\u001b[39m(\u001b[38;5;28mself\u001b[39m, x, encoder_output, src_mask, tgt_mask):\n\u001b[1;32m    187\u001b[0m     \u001b[38;5;28;01mfor\u001b[39;00m layer \u001b[38;5;129;01min\u001b[39;00m \u001b[38;5;28mself\u001b[39m\u001b[38;5;241m.\u001b[39mlayers:\n\u001b[0;32m--> 188\u001b[0m         x \u001b[38;5;241m=\u001b[39m \u001b[43mlayer\u001b[49m\u001b[43m(\u001b[49m\u001b[43mx\u001b[49m\u001b[43m,\u001b[49m\u001b[43m \u001b[49m\u001b[43mencoder_output\u001b[49m\u001b[43m,\u001b[49m\u001b[43m \u001b[49m\u001b[43msrc_mask\u001b[49m\u001b[43m,\u001b[49m\u001b[43m \u001b[49m\u001b[43mtgt_mask\u001b[49m\u001b[43m)\u001b[49m\n\u001b[1;32m    189\u001b[0m     \u001b[38;5;28;01mreturn\u001b[39;00m \u001b[38;5;28mself\u001b[39m\u001b[38;5;241m.\u001b[39mnorm(x)\n",
      "File \u001b[0;32m~/Developer/TSAI/ERAV2/erav2/lib/python3.8/site-packages/torch/nn/modules/module.py:1511\u001b[0m, in \u001b[0;36mModule._wrapped_call_impl\u001b[0;34m(self, *args, **kwargs)\u001b[0m\n\u001b[1;32m   1509\u001b[0m     \u001b[38;5;28;01mreturn\u001b[39;00m \u001b[38;5;28mself\u001b[39m\u001b[38;5;241m.\u001b[39m_compiled_call_impl(\u001b[38;5;241m*\u001b[39margs, \u001b[38;5;241m*\u001b[39m\u001b[38;5;241m*\u001b[39mkwargs)  \u001b[38;5;66;03m# type: ignore[misc]\u001b[39;00m\n\u001b[1;32m   1510\u001b[0m \u001b[38;5;28;01melse\u001b[39;00m:\n\u001b[0;32m-> 1511\u001b[0m     \u001b[38;5;28;01mreturn\u001b[39;00m \u001b[38;5;28;43mself\u001b[39;49m\u001b[38;5;241;43m.\u001b[39;49m\u001b[43m_call_impl\u001b[49m\u001b[43m(\u001b[49m\u001b[38;5;241;43m*\u001b[39;49m\u001b[43margs\u001b[49m\u001b[43m,\u001b[49m\u001b[43m \u001b[49m\u001b[38;5;241;43m*\u001b[39;49m\u001b[38;5;241;43m*\u001b[39;49m\u001b[43mkwargs\u001b[49m\u001b[43m)\u001b[49m\n",
      "File \u001b[0;32m~/Developer/TSAI/ERAV2/erav2/lib/python3.8/site-packages/torch/nn/modules/module.py:1520\u001b[0m, in \u001b[0;36mModule._call_impl\u001b[0;34m(self, *args, **kwargs)\u001b[0m\n\u001b[1;32m   1515\u001b[0m \u001b[38;5;66;03m# If we don't have any hooks, we want to skip the rest of the logic in\u001b[39;00m\n\u001b[1;32m   1516\u001b[0m \u001b[38;5;66;03m# this function, and just call forward.\u001b[39;00m\n\u001b[1;32m   1517\u001b[0m \u001b[38;5;28;01mif\u001b[39;00m \u001b[38;5;129;01mnot\u001b[39;00m (\u001b[38;5;28mself\u001b[39m\u001b[38;5;241m.\u001b[39m_backward_hooks \u001b[38;5;129;01mor\u001b[39;00m \u001b[38;5;28mself\u001b[39m\u001b[38;5;241m.\u001b[39m_backward_pre_hooks \u001b[38;5;129;01mor\u001b[39;00m \u001b[38;5;28mself\u001b[39m\u001b[38;5;241m.\u001b[39m_forward_hooks \u001b[38;5;129;01mor\u001b[39;00m \u001b[38;5;28mself\u001b[39m\u001b[38;5;241m.\u001b[39m_forward_pre_hooks\n\u001b[1;32m   1518\u001b[0m         \u001b[38;5;129;01mor\u001b[39;00m _global_backward_pre_hooks \u001b[38;5;129;01mor\u001b[39;00m _global_backward_hooks\n\u001b[1;32m   1519\u001b[0m         \u001b[38;5;129;01mor\u001b[39;00m _global_forward_hooks \u001b[38;5;129;01mor\u001b[39;00m _global_forward_pre_hooks):\n\u001b[0;32m-> 1520\u001b[0m     \u001b[38;5;28;01mreturn\u001b[39;00m \u001b[43mforward_call\u001b[49m\u001b[43m(\u001b[49m\u001b[38;5;241;43m*\u001b[39;49m\u001b[43margs\u001b[49m\u001b[43m,\u001b[49m\u001b[43m \u001b[49m\u001b[38;5;241;43m*\u001b[39;49m\u001b[38;5;241;43m*\u001b[39;49m\u001b[43mkwargs\u001b[49m\u001b[43m)\u001b[49m\n\u001b[1;32m   1522\u001b[0m \u001b[38;5;28;01mtry\u001b[39;00m:\n\u001b[1;32m   1523\u001b[0m     result \u001b[38;5;241m=\u001b[39m \u001b[38;5;28;01mNone\u001b[39;00m\n",
      "File \u001b[0;32m~/Developer/TSAI/ERAV2/S18/model.py:174\u001b[0m, in \u001b[0;36mDecoderBlock.forward\u001b[0;34m(self, x, encoder_output, src_mask, tgt_mask)\u001b[0m\n\u001b[1;32m    173\u001b[0m \u001b[38;5;28;01mdef\u001b[39;00m \u001b[38;5;21mforward\u001b[39m(\u001b[38;5;28mself\u001b[39m, x, encoder_output, src_mask, tgt_mask):\n\u001b[0;32m--> 174\u001b[0m     x \u001b[38;5;241m=\u001b[39m \u001b[38;5;28;43mself\u001b[39;49m\u001b[38;5;241;43m.\u001b[39;49m\u001b[43mresidual_connections\u001b[49m\u001b[43m[\u001b[49m\u001b[38;5;241;43m0\u001b[39;49m\u001b[43m]\u001b[49m\u001b[43m(\u001b[49m\u001b[43mx\u001b[49m\u001b[43m,\u001b[49m\u001b[43m \u001b[49m\u001b[38;5;28;43;01mlambda\u001b[39;49;00m\u001b[43m \u001b[49m\u001b[43mx\u001b[49m\u001b[43m:\u001b[49m\u001b[43m \u001b[49m\u001b[38;5;28;43mself\u001b[39;49m\u001b[38;5;241;43m.\u001b[39;49m\u001b[43mself_attention_block\u001b[49m\u001b[43m(\u001b[49m\u001b[43mx\u001b[49m\u001b[43m,\u001b[49m\u001b[43m \u001b[49m\u001b[43mx\u001b[49m\u001b[43m,\u001b[49m\u001b[43m \u001b[49m\u001b[43mx\u001b[49m\u001b[43m,\u001b[49m\u001b[43m \u001b[49m\u001b[43mtgt_mask\u001b[49m\u001b[43m)\u001b[49m\u001b[43m)\u001b[49m\n\u001b[1;32m    175\u001b[0m     x \u001b[38;5;241m=\u001b[39m \u001b[38;5;28mself\u001b[39m\u001b[38;5;241m.\u001b[39mresidual_connections[\u001b[38;5;241m1\u001b[39m](x, \u001b[38;5;28;01mlambda\u001b[39;00m x: \u001b[38;5;28mself\u001b[39m\u001b[38;5;241m.\u001b[39mcross_attention_block(x, encoder_output, encoder_output, src_mask))\n\u001b[1;32m    176\u001b[0m     x \u001b[38;5;241m=\u001b[39m \u001b[38;5;28mself\u001b[39m\u001b[38;5;241m.\u001b[39mresidual_connections[\u001b[38;5;241m2\u001b[39m](x, \u001b[38;5;28mself\u001b[39m\u001b[38;5;241m.\u001b[39mfeed_forward_block)\n",
      "File \u001b[0;32m~/Developer/TSAI/ERAV2/erav2/lib/python3.8/site-packages/torch/nn/modules/module.py:1511\u001b[0m, in \u001b[0;36mModule._wrapped_call_impl\u001b[0;34m(self, *args, **kwargs)\u001b[0m\n\u001b[1;32m   1509\u001b[0m     \u001b[38;5;28;01mreturn\u001b[39;00m \u001b[38;5;28mself\u001b[39m\u001b[38;5;241m.\u001b[39m_compiled_call_impl(\u001b[38;5;241m*\u001b[39margs, \u001b[38;5;241m*\u001b[39m\u001b[38;5;241m*\u001b[39mkwargs)  \u001b[38;5;66;03m# type: ignore[misc]\u001b[39;00m\n\u001b[1;32m   1510\u001b[0m \u001b[38;5;28;01melse\u001b[39;00m:\n\u001b[0;32m-> 1511\u001b[0m     \u001b[38;5;28;01mreturn\u001b[39;00m \u001b[38;5;28;43mself\u001b[39;49m\u001b[38;5;241;43m.\u001b[39;49m\u001b[43m_call_impl\u001b[49m\u001b[43m(\u001b[49m\u001b[38;5;241;43m*\u001b[39;49m\u001b[43margs\u001b[49m\u001b[43m,\u001b[49m\u001b[43m \u001b[49m\u001b[38;5;241;43m*\u001b[39;49m\u001b[38;5;241;43m*\u001b[39;49m\u001b[43mkwargs\u001b[49m\u001b[43m)\u001b[49m\n",
      "File \u001b[0;32m~/Developer/TSAI/ERAV2/erav2/lib/python3.8/site-packages/torch/nn/modules/module.py:1520\u001b[0m, in \u001b[0;36mModule._call_impl\u001b[0;34m(self, *args, **kwargs)\u001b[0m\n\u001b[1;32m   1515\u001b[0m \u001b[38;5;66;03m# If we don't have any hooks, we want to skip the rest of the logic in\u001b[39;00m\n\u001b[1;32m   1516\u001b[0m \u001b[38;5;66;03m# this function, and just call forward.\u001b[39;00m\n\u001b[1;32m   1517\u001b[0m \u001b[38;5;28;01mif\u001b[39;00m \u001b[38;5;129;01mnot\u001b[39;00m (\u001b[38;5;28mself\u001b[39m\u001b[38;5;241m.\u001b[39m_backward_hooks \u001b[38;5;129;01mor\u001b[39;00m \u001b[38;5;28mself\u001b[39m\u001b[38;5;241m.\u001b[39m_backward_pre_hooks \u001b[38;5;129;01mor\u001b[39;00m \u001b[38;5;28mself\u001b[39m\u001b[38;5;241m.\u001b[39m_forward_hooks \u001b[38;5;129;01mor\u001b[39;00m \u001b[38;5;28mself\u001b[39m\u001b[38;5;241m.\u001b[39m_forward_pre_hooks\n\u001b[1;32m   1518\u001b[0m         \u001b[38;5;129;01mor\u001b[39;00m _global_backward_pre_hooks \u001b[38;5;129;01mor\u001b[39;00m _global_backward_hooks\n\u001b[1;32m   1519\u001b[0m         \u001b[38;5;129;01mor\u001b[39;00m _global_forward_hooks \u001b[38;5;129;01mor\u001b[39;00m _global_forward_pre_hooks):\n\u001b[0;32m-> 1520\u001b[0m     \u001b[38;5;28;01mreturn\u001b[39;00m \u001b[43mforward_call\u001b[49m\u001b[43m(\u001b[49m\u001b[38;5;241;43m*\u001b[39;49m\u001b[43margs\u001b[49m\u001b[43m,\u001b[49m\u001b[43m \u001b[49m\u001b[38;5;241;43m*\u001b[39;49m\u001b[38;5;241;43m*\u001b[39;49m\u001b[43mkwargs\u001b[49m\u001b[43m)\u001b[49m\n\u001b[1;32m   1522\u001b[0m \u001b[38;5;28;01mtry\u001b[39;00m:\n\u001b[1;32m   1523\u001b[0m     result \u001b[38;5;241m=\u001b[39m \u001b[38;5;28;01mNone\u001b[39;00m\n",
      "File \u001b[0;32m~/Developer/TSAI/ERAV2/S18/model.py:81\u001b[0m, in \u001b[0;36mResidualConnection.forward\u001b[0;34m(self, x, sublayer)\u001b[0m\n\u001b[1;32m     80\u001b[0m \u001b[38;5;28;01mdef\u001b[39;00m \u001b[38;5;21mforward\u001b[39m(\u001b[38;5;28mself\u001b[39m, x, sublayer):\n\u001b[0;32m---> 81\u001b[0m     \u001b[38;5;28;01mreturn\u001b[39;00m x \u001b[38;5;241m+\u001b[39m \u001b[38;5;28mself\u001b[39m\u001b[38;5;241m.\u001b[39mdropout(sublayer(\u001b[38;5;28;43mself\u001b[39;49m\u001b[38;5;241;43m.\u001b[39;49m\u001b[43mnorm\u001b[49m\u001b[43m(\u001b[49m\u001b[43mx\u001b[49m\u001b[43m)\u001b[49m))\n",
      "File \u001b[0;32m~/Developer/TSAI/ERAV2/erav2/lib/python3.8/site-packages/torch/nn/modules/module.py:1511\u001b[0m, in \u001b[0;36mModule._wrapped_call_impl\u001b[0;34m(self, *args, **kwargs)\u001b[0m\n\u001b[1;32m   1509\u001b[0m     \u001b[38;5;28;01mreturn\u001b[39;00m \u001b[38;5;28mself\u001b[39m\u001b[38;5;241m.\u001b[39m_compiled_call_impl(\u001b[38;5;241m*\u001b[39margs, \u001b[38;5;241m*\u001b[39m\u001b[38;5;241m*\u001b[39mkwargs)  \u001b[38;5;66;03m# type: ignore[misc]\u001b[39;00m\n\u001b[1;32m   1510\u001b[0m \u001b[38;5;28;01melse\u001b[39;00m:\n\u001b[0;32m-> 1511\u001b[0m     \u001b[38;5;28;01mreturn\u001b[39;00m \u001b[38;5;28;43mself\u001b[39;49m\u001b[38;5;241;43m.\u001b[39;49m\u001b[43m_call_impl\u001b[49m\u001b[43m(\u001b[49m\u001b[38;5;241;43m*\u001b[39;49m\u001b[43margs\u001b[49m\u001b[43m,\u001b[49m\u001b[43m \u001b[49m\u001b[38;5;241;43m*\u001b[39;49m\u001b[38;5;241;43m*\u001b[39;49m\u001b[43mkwargs\u001b[49m\u001b[43m)\u001b[49m\n",
      "File \u001b[0;32m~/Developer/TSAI/ERAV2/erav2/lib/python3.8/site-packages/torch/nn/modules/module.py:1520\u001b[0m, in \u001b[0;36mModule._call_impl\u001b[0;34m(self, *args, **kwargs)\u001b[0m\n\u001b[1;32m   1515\u001b[0m \u001b[38;5;66;03m# If we don't have any hooks, we want to skip the rest of the logic in\u001b[39;00m\n\u001b[1;32m   1516\u001b[0m \u001b[38;5;66;03m# this function, and just call forward.\u001b[39;00m\n\u001b[1;32m   1517\u001b[0m \u001b[38;5;28;01mif\u001b[39;00m \u001b[38;5;129;01mnot\u001b[39;00m (\u001b[38;5;28mself\u001b[39m\u001b[38;5;241m.\u001b[39m_backward_hooks \u001b[38;5;129;01mor\u001b[39;00m \u001b[38;5;28mself\u001b[39m\u001b[38;5;241m.\u001b[39m_backward_pre_hooks \u001b[38;5;129;01mor\u001b[39;00m \u001b[38;5;28mself\u001b[39m\u001b[38;5;241m.\u001b[39m_forward_hooks \u001b[38;5;129;01mor\u001b[39;00m \u001b[38;5;28mself\u001b[39m\u001b[38;5;241m.\u001b[39m_forward_pre_hooks\n\u001b[1;32m   1518\u001b[0m         \u001b[38;5;129;01mor\u001b[39;00m _global_backward_pre_hooks \u001b[38;5;129;01mor\u001b[39;00m _global_backward_hooks\n\u001b[1;32m   1519\u001b[0m         \u001b[38;5;129;01mor\u001b[39;00m _global_forward_hooks \u001b[38;5;129;01mor\u001b[39;00m _global_forward_pre_hooks):\n\u001b[0;32m-> 1520\u001b[0m     \u001b[38;5;28;01mreturn\u001b[39;00m \u001b[43mforward_call\u001b[49m\u001b[43m(\u001b[49m\u001b[38;5;241;43m*\u001b[39;49m\u001b[43margs\u001b[49m\u001b[43m,\u001b[49m\u001b[43m \u001b[49m\u001b[38;5;241;43m*\u001b[39;49m\u001b[38;5;241;43m*\u001b[39;49m\u001b[43mkwargs\u001b[49m\u001b[43m)\u001b[49m\n\u001b[1;32m   1522\u001b[0m \u001b[38;5;28;01mtry\u001b[39;00m:\n\u001b[1;32m   1523\u001b[0m     result \u001b[38;5;241m=\u001b[39m \u001b[38;5;28;01mNone\u001b[39;00m\n",
      "File \u001b[0;32m~/Developer/TSAI/ERAV2/S18/model.py:20\u001b[0m, in \u001b[0;36mLayerNormalization.forward\u001b[0;34m(self, x)\u001b[0m\n\u001b[1;32m     18\u001b[0m std \u001b[38;5;241m=\u001b[39m x\u001b[38;5;241m.\u001b[39mstd(dim \u001b[38;5;241m=\u001b[39m \u001b[38;5;241m-\u001b[39m\u001b[38;5;241m1\u001b[39m, keepdim \u001b[38;5;241m=\u001b[39m \u001b[38;5;28;01mTrue\u001b[39;00m) \u001b[38;5;66;03m# (batch, seq_len, 1)\u001b[39;00m\n\u001b[1;32m     19\u001b[0m \u001b[38;5;66;03m# eps is to prevent dividing by zero or when std is very small\u001b[39;00m\n\u001b[0;32m---> 20\u001b[0m \u001b[38;5;28;01mreturn\u001b[39;00m \u001b[38;5;28;43mself\u001b[39;49m\u001b[38;5;241;43m.\u001b[39;49m\u001b[43malpha\u001b[49m\u001b[43m \u001b[49m\u001b[38;5;241;43m*\u001b[39;49m\u001b[43m \u001b[49m\u001b[43m(\u001b[49m\u001b[43mx\u001b[49m\u001b[43m \u001b[49m\u001b[38;5;241;43m-\u001b[39;49m\u001b[43m \u001b[49m\u001b[43mmean\u001b[49m\u001b[43m)\u001b[49m\u001b[43m \u001b[49m\u001b[38;5;241;43m/\u001b[39;49m\u001b[43m \u001b[49m\u001b[43m(\u001b[49m\u001b[43mstd\u001b[49m\u001b[43m \u001b[49m\u001b[38;5;241;43m+\u001b[39;49m\u001b[43m \u001b[49m\u001b[38;5;28;43mself\u001b[39;49m\u001b[38;5;241;43m.\u001b[39;49m\u001b[43meps\u001b[49m\u001b[43m)\u001b[49m\u001b[43m \u001b[49m\u001b[38;5;241;43m+\u001b[39;49m\u001b[43m \u001b[49m\u001b[38;5;28;43mself\u001b[39;49m\u001b[38;5;241;43m.\u001b[39;49m\u001b[43mbias\u001b[49m\n",
      "\u001b[0;31mKeyboardInterrupt\u001b[0m: "
     ]
    }
   ],
   "source": [
    "train_model(config)"
   ]
  },
  {
   "cell_type": "code",
   "execution_count": null,
   "metadata": {},
   "outputs": [],
   "source": []
  }
 ],
 "metadata": {
  "kernelspec": {
   "display_name": "erav2",
   "language": "python",
   "name": "python3"
  },
  "language_info": {
   "codemirror_mode": {
    "name": "ipython",
    "version": 3
   },
   "file_extension": ".py",
   "mimetype": "text/x-python",
   "name": "python",
   "nbconvert_exporter": "python",
   "pygments_lexer": "ipython3",
   "version": "3.8.16"
  }
 },
 "nbformat": 4,
 "nbformat_minor": 2
}
